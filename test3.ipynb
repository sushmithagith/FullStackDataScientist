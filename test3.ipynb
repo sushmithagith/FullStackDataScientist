{
 "cells": [
  {
   "cell_type": "code",
   "execution_count": 4,
   "id": "0978a7f1",
   "metadata": {},
   "outputs": [
    {
     "name": "stdout",
     "output_type": "stream",
     "text": [
      "[2, 3, 5, 7, 11, 13, 17, 19]\n"
     ]
    }
   ],
   "source": [
    "n = int(input(\"Enter the maximum number: \"))\n",
    "m = list(range(1, n + 1))  \n",
    "l = []\n",
    "for num in m:\n",
    "    if num > 1:\n",
    "        c = 0\n",
    "        for j in range(1, num + 1):\n",
    "            if num % j == 0:\n",
    "                c += 1\n",
    "        if c == 2:\n",
    "            l.append(num)\n",
    "print(l)\n"
   ]
  },
  {
   "cell_type": "code",
   "execution_count": 7,
   "id": "2ac5fd6b",
   "metadata": {},
   "outputs": [
    {
     "name": "stdout",
     "output_type": "stream",
     "text": [
      "TRUE\n"
     ]
    }
   ],
   "source": [
    "s = input(\"Enter a string: \")\n",
    "letters = []\n",
    "for ch in s:\n",
    "    if ch.isalpha():       \n",
    "        letters.append(ch.lower()) \n",
    "if letters == letters[::-1]:\n",
    "    print(\"TRUE\")\n",
    "else:\n",
    "    print(\"FALSE\")\n"
   ]
  },
  {
   "cell_type": "code",
   "execution_count": 8,
   "id": "e5b0cb45",
   "metadata": {},
   "outputs": [
    {
     "name": "stdout",
     "output_type": "stream",
     "text": [
      "TRUE\n"
     ]
    }
   ],
   "source": [
    "s1 = input(\"Enter first string: \").lower()\n",
    "s2 = input(\"Enter second string: \").lower()\n",
    "s1_letters = [ch for ch in s1 if ch.isalpha()]\n",
    "s2_letters = [ch for ch in s2 if ch.isalpha()]\n",
    "if sorted(s1_letters) == sorted(s2_letters):\n",
    "    print(\"TRUE\")\n",
    "else:\n",
    "    print(\"FALSE\")\n"
   ]
  },
  {
   "cell_type": "code",
   "execution_count": 9,
   "id": "33cff3d2",
   "metadata": {},
   "outputs": [
    {
     "name": "stdout",
     "output_type": "stream",
     "text": [
      "Vowels: 2\n",
      "Consonants: 3\n"
     ]
    }
   ],
   "source": [
    "n=input()\n",
    "v=0\n",
    "c=0\n",
    "for i in range(len(n)):\n",
    "    if n[i] in 'aeiouAEIOU':\n",
    "        v+=1\n",
    "    elif n[i].isalpha():\n",
    "        c+=1\n",
    "print(\"Vowels:\",v)\n",
    "print(\"Consonants:\",c)"
   ]
  },
  {
   "cell_type": "code",
   "execution_count": 10,
   "id": "faeb1d6d",
   "metadata": {},
   "outputs": [
    {
     "name": "stdout",
     "output_type": "stream",
     "text": [
      "Longest word: amazing\n"
     ]
    }
   ],
   "source": [
    "n=input()\n",
    "w=n.split()\n",
    "s=max(w,key=len)\n",
    "print(\"Longest word:\",s)"
   ]
  },
  {
   "cell_type": "code",
   "execution_count": 11,
   "id": "e1ef2db2",
   "metadata": {},
   "outputs": [
    {
     "name": "stdout",
     "output_type": "stream",
     "text": [
      "Generated Password: $)IjvS\n"
     ]
    }
   ],
   "source": [
    "import random\n",
    "import string\n",
    "length = int(input(\"Enter password length: \"))\n",
    "all_chars = string.ascii_letters + string.digits + string.punctuation\n",
    "password = ''.join(random.choice(all_chars) for _ in range(length))\n",
    "print(\"Generated Password:\", password)\n"
   ]
  },
  {
   "cell_type": "code",
   "execution_count": 13,
   "id": "4ea23401",
   "metadata": {},
   "outputs": [
    {
     "name": "stdout",
     "output_type": "stream",
     "text": [
      "5.0\n"
     ]
    }
   ],
   "source": [
    "import math\n",
    "\n",
    "def sqrt(n):\n",
    "    return math.sqrt(n)\n",
    "\n",
    "def fact(n):\n",
    "    if n == 0 or n == 1:\n",
    "        return 1\n",
    "    else:\n",
    "        return n * fact(n - 1)\n",
    "\n",
    "def tsin(n):\n",
    "    return math.sin(n)\n",
    "\n",
    "def tcos(n):\n",
    "    return math.cos(n)\n",
    "expr = input()\n",
    "if expr.startswith(\"sqrt(\") and expr.endswith(\")\"):\n",
    "    num = float(expr[5:-1])\n",
    "    print(sqrt(num))\n",
    "elif expr.startswith(\"fact(\") and expr.endswith(\")\"):\n",
    "    num = int(expr[5:-1])\n",
    "    print(fact(num))\n",
    "elif expr.startswith(\"sin(\") and expr.endswith(\")\"):\n",
    "    num = float(expr[4:-1])\n",
    "    print(tsin(num))\n",
    "elif expr.startswith(\"cos(\") and expr.endswith(\")\"):\n",
    "    num = float(expr[4:-1])\n",
    "    print(tcos(num))\n",
    "else:\n",
    "    print(\"Invalid input\")\n"
   ]
  },
  {
   "cell_type": "code",
   "execution_count": 17,
   "id": "6ced7ad7",
   "metadata": {},
   "outputs": [
    {
     "name": "stdout",
     "output_type": "stream",
     "text": [
      "{'cat': 2, 'dog': 1}\n"
     ]
    }
   ],
   "source": [
    "n = input(\"Enter a sentence: \")\n",
    "w = n.split() \n",
    "c = {}\n",
    "for word in w:\n",
    "    c[word] = c.get(word, 0) + 1   \n",
    "print(c)\n"
   ]
  },
  {
   "cell_type": "code",
   "execution_count": 18,
   "id": "3730a781",
   "metadata": {},
   "outputs": [
    {
     "name": "stdout",
     "output_type": "stream",
     "text": [
      "Weather: Windy, Temp: 17°C\n"
     ]
    }
   ],
   "source": [
    "import random\n",
    "def weather_simulator():\n",
    "    conditions = [\"Sunny\", \"Cloudy\", \"Rainy\", \"Stormy\", \"Snowy\", \"Windy\"]\n",
    "    condition = random.choice(conditions)\n",
    "    temp = random.randint(-10, 40)\n",
    "    return f\"Weather: {condition}, Temp: {temp}°C\"\n",
    "print(weather_simulator())\n"
   ]
  },
  {
   "cell_type": "code",
   "execution_count": 19,
   "id": "55ea7c5a",
   "metadata": {},
   "outputs": [
    {
     "name": "stdout",
     "output_type": "stream",
     "text": [
      "5\n",
      "4\n",
      "3\n",
      "2\n",
      "1\n",
      "Time’s up!\n"
     ]
    }
   ],
   "source": [
    "import time\n",
    "def countdown(n):\n",
    "    while n > 0:\n",
    "        print(n)\n",
    "        time.sleep(1)  \n",
    "        n -= 1\n",
    "    print(\"Time’s up!\")\n",
    "\n",
    "# Example\n",
    "countdown(5)\n"
   ]
  },
  {
   "cell_type": "code",
   "execution_count": 20,
   "id": "93934a2f",
   "metadata": {},
   "outputs": [
    {
     "name": "stdout",
     "output_type": "stream",
     "text": [
      "Deposited 500. New balance: 1500\n",
      "Withdrew 200. New balance: 1300\n",
      "Current Balance: 1300\n"
     ]
    }
   ],
   "source": [
    "class BankAccount:\n",
    "    def __init__(self,balance,owner):\n",
    "        self.balance = balance\n",
    "        self.owner = owner\n",
    "    def deposit(self,amount):\n",
    "        self.balance += amount\n",
    "        print(f\"Deposited {amount}. New balance: {self.balance}\")\n",
    "\n",
    "    def withdraw(self,amount):\n",
    "        if amount > self.balance:\n",
    "            print(\"Insufficient funds\")\n",
    "        else:\n",
    "            self.balance -= amount\n",
    "            print(f\"Withdrew {amount}. New balance: {self.balance}\")\n",
    "    def get_balance(self):\n",
    "        return self.balance\n",
    "account = BankAccount(1000, \"Alice\")\n",
    "account.deposit(500)\n",
    "account.withdraw(200)\n",
    "print(\"Current Balance:\", account.get_balance())"
   ]
  },
  {
   "cell_type": "code",
   "execution_count": 21,
   "id": "346bb0ef",
   "metadata": {},
   "outputs": [
    {
     "name": "stdout",
     "output_type": "stream",
     "text": [
      "Name: Alice\n",
      "Average: 85.0\n",
      "Highest: 90\n",
      "Lowest: 80\n",
      "Marks after adding: [90, 80, 85, 95]\n",
      "New Average: 87.5\n"
     ]
    }
   ],
   "source": [
    "class Student:\n",
    "    def __init__(self, name, marks):\n",
    "        self.name = name\n",
    "        self.marks = marks\n",
    "\n",
    "    def get_average(self):\n",
    "        if self.marks:\n",
    "            return sum(self.marks) / len(self.marks)\n",
    "\n",
    "    def add_mark(self, mark):\n",
    "        self.marks.append(mark)\n",
    "\n",
    "    def get_highest(self):\n",
    "        if self.marks:\n",
    "            return max(self.marks)\n",
    "\n",
    "    def get_lowest(self):\n",
    "        if self.marks:\n",
    "            return min(self.marks)\n",
    "s1 = Student(\"Alice\", [90, 80, 85])\n",
    "print(\"Name:\", s1.name)\n",
    "print(\"Average:\", s1.get_average())\n",
    "print(\"Highest:\", s1.get_highest())\n",
    "print(\"Lowest:\", s1.get_lowest())\n",
    "s1.add_mark(95)\n",
    "print(\"Marks after adding:\", s1.marks)\n",
    "print(\"New Average:\", s1.get_average())\n"
   ]
  },
  {
   "cell_type": "code",
   "execution_count": 22,
   "id": "af186380",
   "metadata": {},
   "outputs": [
    {
     "name": "stdout",
     "output_type": "stream",
     "text": [
      "10000.0\n"
     ]
    }
   ],
   "source": [
    "class Employee:\n",
    "    def __init__(self, name, salary, role):\n",
    "        self.name = name\n",
    "        self.salary = salary\n",
    "        self.role = role\n",
    "\n",
    "    def bonus(self):\n",
    "        if self.role.lower() == \"manager\":\n",
    "            return 0.20 * self.salary\n",
    "        elif self.role.lower() == \"developer\":\n",
    "            return 0.10 * self.salary\n",
    "        elif self.role.lower() == \"intern\":\n",
    "            return 0.05 * self.salary\n",
    "        else:\n",
    "            return 0  \n",
    "e1 = Employee(\"Alice\", 50000, \"Manager\")\n",
    "print(e1.bonus())\n"
   ]
  },
  {
   "cell_type": "code",
   "execution_count": null,
   "id": "d7012212",
   "metadata": {},
   "outputs": [
    {
     "name": "stdout",
     "output_type": "stream",
     "text": [
      "153.94\n",
      "20\n"
     ]
    }
   ],
   "source": [
    "import math\n",
    "class Shape:\n",
    "    def __init__(self, name):\n",
    "        self.name = name\n",
    "\n",
    "    def area(self):\n",
    "        raise NotImplementedError(\"Subclass must implement abstract method\")\n",
    "    \n",
    "class Circle(Shape):\n",
    "    def __init__(self, radius):\n",
    "        super().__init__(\"Circle\")\n",
    "        self.radius = radius\n",
    "\n",
    "    def area(self):\n",
    "        return round(math.pi * self.radius ** 2, 2)\n",
    "    \n",
    "class Rectangle(Shape):\n",
    "    def __init__(self, width, height):\n",
    "        super().__init__(\"Rectangle\")\n",
    "        self.width = width\n",
    "        self.height = height\n",
    "\n",
    "    def area(self):\n",
    "        return self.width * self.height\n",
    "c = Circle(7)\n",
    "print(c.area())  \n",
    "r = Rectangle(4, 5)\n",
    "print(r.area())  \n"
   ]
  },
  {
   "cell_type": "code",
   "execution_count": 24,
   "id": "7d0381cd",
   "metadata": {},
   "outputs": [
    {
     "name": "stdout",
     "output_type": "stream",
     "text": [
      "Shirt added.\n",
      "Shoes added.\n",
      "Items in order:\n",
      "Shirt: 500\n",
      "Shoes: 1500\n",
      "Total = 2000\n"
     ]
    }
   ],
   "source": [
    "class Order:\n",
    "    def __init__(self):\n",
    "        self.items = {}  \n",
    "\n",
    "    def add(self, item, price):\n",
    "        self.items[item] = price\n",
    "        print(f\"{item} added.\")\n",
    "    def remove(self, item):\n",
    "        if item in self.items:\n",
    "            del self.items[item]\n",
    "            print(f\"{item} removed.\")\n",
    "        else:\n",
    "            print(f\"{item} not found in order.\")\n",
    "\n",
    "    def calculate_total(self):\n",
    "        return sum(self.items.values())\n",
    "\n",
    "    def show_items(self):\n",
    "        if not self.items:\n",
    "            print(\"No items in order.\")\n",
    "        else:\n",
    "            print(\"Items in order:\")\n",
    "            for item, price in self.items.items():\n",
    "                print(f\"{item}: {price}\")\n",
    "order = Order()\n",
    "order.add(\"Shirt\", 500)\n",
    "order.add(\"Shoes\", 1500)\n",
    "order.show_items()\n",
    "print(\"Total =\", order.calculate_total())\n"
   ]
  },
  {
   "cell_type": "code",
   "execution_count": 28,
   "id": "f013fa7d",
   "metadata": {},
   "outputs": [
    {
     "data": {
      "text/plain": [
       "[0, 1, 1, 2, 3, 5, 8]"
      ]
     },
     "execution_count": 28,
     "metadata": {},
     "output_type": "execute_result"
    }
   ],
   "source": [
    "def fibonacci(n):\n",
    "    a=0\n",
    "    b=1\n",
    "    l=[]\n",
    "    l.append(a)\n",
    "    l.append(b)\n",
    "    for i in range(1,n-1):\n",
    "        c=a+b\n",
    "        l.append(c)\n",
    "        a=b\n",
    "        b=c\n",
    "    return l[:n]\n",
    "fibonacci(7)\n"
   ]
  },
  {
   "cell_type": "code",
   "execution_count": 29,
   "id": "4034a7d7",
   "metadata": {},
   "outputs": [
    {
     "name": "stdout",
     "output_type": "stream",
     "text": [
      "120\n"
     ]
    }
   ],
   "source": [
    "def fact(n):\n",
    "    if n == 0 or n == 1:\n",
    "        return 1\n",
    "    else:\n",
    "        return n * fact(n - 1)\n",
    "print(fact(5))"
   ]
  },
  {
   "cell_type": "code",
   "execution_count": 30,
   "id": "3f138f91",
   "metadata": {},
   "outputs": [
    {
     "name": "stdout",
     "output_type": "stream",
     "text": [
      "{'apple': 2, 'banana': 2, 'orange': 1}\n"
     ]
    }
   ],
   "source": [
    "n=input()\n",
    "w=n.split()\n",
    "d={}\n",
    "for i in w:\n",
    "    d[i]=d.get(i,0)+1\n",
    "print(d)"
   ]
  },
  {
   "cell_type": "code",
   "execution_count": 32,
   "id": "4554fd64",
   "metadata": {},
   "outputs": [
    {
     "name": "stdout",
     "output_type": "stream",
     "text": [
      "A\n"
     ]
    }
   ],
   "source": [
    "def grade_calculator(marks):\n",
    "    avg = sum(marks) / len(marks)\n",
    "\n",
    "    if avg >= 90:\n",
    "        grade = \"A+\"\n",
    "    elif avg >= 80:\n",
    "        grade = \"A\"\n",
    "    elif avg >= 70:\n",
    "        grade = \"B\"\n",
    "    elif avg >= 60:\n",
    "        grade = \"C\"\n",
    "    elif avg >= 50:\n",
    "        grade = \"D\"\n",
    "    else:\n",
    "        grade = \"F\"\n",
    "\n",
    "    return grade\n",
    "print(grade_calculator([85, 90, 78]))\n"
   ]
  },
  {
   "cell_type": "code",
   "execution_count": 35,
   "id": "a0eaaa0d",
   "metadata": {},
   "outputs": [
    {
     "name": "stdout",
     "output_type": "stream",
     "text": [
      "10\n"
     ]
    }
   ],
   "source": [
    "l=list(map(int,input().split()))\n",
    "l.sort()\n",
    "print(l[-2])"
   ]
  },
  {
   "cell_type": "code",
   "execution_count": 39,
   "id": "0d1be59b",
   "metadata": {},
   "outputs": [
    {
     "name": "stdout",
     "output_type": "stream",
     "text": [
      "['requirements.txt', 'test.ipynb', 'test2.ipynb', 'test3.ipynb', 'venv']\n",
      "Text files: 1\n",
      "Python files: 0\n"
     ]
    }
   ],
   "source": [
    "import os\n",
    "l=os.listdir('.')\n",
    "print(l)\n",
    "t=0\n",
    "p=0\n",
    "for i in range(len(l)):\n",
    "    if l[i].endswith('.txt'):\n",
    "        t=t+1\n",
    "    elif l[i].endswith('.py'):\n",
    "        p=p+1\n",
    "print(\"Text files:\", t)\n",
    "print(\"Python files:\", p)"
   ]
  },
  {
   "cell_type": "code",
   "execution_count": 41,
   "id": "2ffebe9c",
   "metadata": {},
   "outputs": [
    {
     "name": "stdout",
     "output_type": "stream",
     "text": [
      "Mean: 88.33333333333333\n",
      "Median: 90.0\n",
      "Variance: 72.22222222222223\n"
     ]
    }
   ],
   "source": [
    "import statistics as stats\n",
    "\n",
    "l = list(map(int, input(\"Enter numbers: \").split()))\n",
    "\n",
    "mean = stats.mean(l)\n",
    "median = stats.median(l)\n",
    "variance = stats.pvariance(l)   \n",
    "print(\"Mean:\", mean)\n",
    "print(\"Median:\", median)\n",
    "print(\"Variance:\", variance)\n"
   ]
  },
  {
   "cell_type": "code",
   "execution_count": 42,
   "id": "ad0e4a5d",
   "metadata": {},
   "outputs": [
    {
     "name": "stdout",
     "output_type": "stream",
     "text": [
      "Roots are: 2.0 and 1.0\n"
     ]
    }
   ],
   "source": [
    "import math\n",
    "\n",
    "def quadratic_solver(a, b, c):\n",
    "    d = b**2 - 4*a*c\n",
    "\n",
    "    if d < 0:\n",
    "        return \"No real roots\"\n",
    "    elif d == 0:\n",
    "        root = -b / (2*a)\n",
    "        return f\"Root is: {root}\"\n",
    "    else:\n",
    "        root1 = (-b + math.sqrt(d)) / (2*a)\n",
    "        root2 = (-b - math.sqrt(d)) / (2*a)\n",
    "        return f\"Roots are: {root1} and {root2}\"\n",
    "print(quadratic_solver(1, -3, 2))\n"
   ]
  },
  {
   "cell_type": "code",
   "execution_count": 43,
   "id": "3bd438d4",
   "metadata": {},
   "outputs": [
    {
     "name": "stdout",
     "output_type": "stream",
     "text": [
      "Computer(random): Scissors\n",
      "You chose Rock computer chose Scissors\n",
      "You win!\n"
     ]
    }
   ],
   "source": [
    "import random\n",
    "l1=[\"Rock\",\"Paper\",\"Scissors\"]\n",
    "l=input(\"Rock, Paper, Scissors:\")\n",
    "o=random.choice(l1)\n",
    "print(\"Computer(random):\",o)\n",
    "print(\"You chose\",l,\"computer chose\",o)\n",
    "if l==o:\n",
    "    print(\"It's a tie!\")\n",
    "elif (l==\"Rock\" and o==\"Scissors\") or (l==\"Paper\" and o==\"Rock\") or (l==\"Scissors\" and o==\"Paper\"):\n",
    "    print(\"You win!\")\n",
    "else:\n",
    "    print(\"Computer wins!\")"
   ]
  },
  {
   "cell_type": "code",
   "execution_count": 50,
   "id": "e3099baf",
   "metadata": {},
   "outputs": [
    {
     "name": "stdout",
     "output_type": "stream",
     "text": [
      "You borrowed Python 101\n",
      "You returned Python 101\n",
      "Available books:\n",
      "Python 101: 3 copies\n",
      "Data Science: 2 copies\n"
     ]
    }
   ],
   "source": [
    "class Library:\n",
    "    def __init__(self, books):\n",
    "        self.books = books\n",
    "\n",
    "    def borrow(self, title):\n",
    "        if title in self.books and self.books[title] > 0:\n",
    "            self.books[title] -= 1\n",
    "            print(f\"You borrowed {title}\")\n",
    "        else:\n",
    "            print(f\"{title} not available\")\n",
    "\n",
    "    def return_book(self, title):\n",
    "        if title in self.books:\n",
    "            self.books[title] += 1\n",
    "        else:\n",
    "            self.books[title] = 1\n",
    "        print(f\"You returned {title}\")\n",
    "\n",
    "    def show_books(self):\n",
    "        print(\"Available books:\")\n",
    "        for title, copies in self.books.items():\n",
    "            print(f\"{title}: {copies} copies\")\n",
    "\n",
    "lib = Library({\"Python 101\": 3, \"Data Science\": 2})\n",
    "\n",
    "lib.borrow(\"Python 101\")   \n",
    "lib.return_book(\"Python 101\")  \n",
    "lib.show_books()\n"
   ]
  },
  {
   "cell_type": "code",
   "execution_count": 53,
   "id": "afb16a33",
   "metadata": {},
   "outputs": [
    {
     "name": "stdout",
     "output_type": "stream",
     "text": [
      "Login successful\n",
      "None\n",
      "200 deposited. New balance: 1434\n",
      "None\n",
      "100 withdrawn. New balance: 1334\n",
      "None\n",
      "Your balance is: 1334\n",
      "None\n"
     ]
    }
   ],
   "source": [
    "class ATM:\n",
    "    def __init__(self, balance, pin):\n",
    "        self.balance = balance\n",
    "        self.pin = pin\n",
    "        self.is_authenticated = False\n",
    "\n",
    "    def login(self, entered_pin):\n",
    "        if entered_pin == self.pin:\n",
    "            self.is_authenticated = True\n",
    "            print(\"Login successful\")\n",
    "        else:\n",
    "            self.is_authenticated = False\n",
    "            print(\"Incorrect PIN\")\n",
    "\n",
    "    def check_balance(self):\n",
    "        if self.is_authenticated:\n",
    "            print(f\"Your balance is: {self.balance}\")\n",
    "        else:\n",
    "            print(\"Please login first\")\n",
    "\n",
    "    def deposit(self, amount):\n",
    "        if self.is_authenticated:\n",
    "            self.balance += amount\n",
    "            print(f\"{amount} deposited. New balance: {self.balance}\")\n",
    "        else:\n",
    "            print(\"Please login first\")\n",
    "\n",
    "    def withdraw(self, amount):\n",
    "        if self.is_authenticated:\n",
    "            if amount <= self.balance:\n",
    "                self.balance -= amount\n",
    "                print(f\"{amount} withdrawn. New balance: {self.balance}\")\n",
    "            else:\n",
    "                print(\"Insufficient balance\")\n",
    "        else:\n",
    "            print(\"Please login first\")\n",
    "atm = ATM(1234, 1234)\n",
    " \n",
    "print(atm.login(1234))\n",
    " \n",
    "print(atm.deposit(200))\n",
    " \n",
    "print(atm.withdraw(100))\n",
    " \n",
    "print(atm.check_balance())\n"
   ]
  },
  {
   "cell_type": "code",
   "execution_count": 54,
   "id": "1534494e",
   "metadata": {},
   "outputs": [
    {
     "name": "stdout",
     "output_type": "stream",
     "text": [
      "Dr. Smith is teaching Python\n",
      "Alice enrolled in Python\n",
      "Dr. Smith gave assignment: Project 1\n",
      "Alice submitted assignment: Project 1\n"
     ]
    }
   ],
   "source": [
    "class Professor:\n",
    "    def __init__(self, name, subject):\n",
    "        self.name = name\n",
    "        self.subject = subject\n",
    "\n",
    "    def teach(self, course):\n",
    "        return f\"{self.name} is teaching {course}\"\n",
    "\n",
    "    def give_assignment(self, task):\n",
    "        return f\"{self.name} gave assignment: {task}\"\n",
    "\n",
    "\n",
    "class Student:\n",
    "    def __init__(self, name):\n",
    "        self.name = name\n",
    "        self.courses = []\n",
    "        self.assignments = []\n",
    "\n",
    "    def enroll(self, course):\n",
    "        self.courses.append(course)\n",
    "        return f\"{self.name} enrolled in {course}\"\n",
    "\n",
    "    def submit_assignment(self, task):\n",
    "        self.assignments.append(task)\n",
    "        return f\"{self.name} submitted assignment: {task}\"\n",
    "\n",
    "\n",
    "prof = Professor(\"Dr. Smith\", \"Computer Science\")\n",
    "stud = Student(\"Alice\")\n",
    "\n",
    "print(prof.teach(\"Python\"))\n",
    "print(stud.enroll(\"Python\"))\n",
    "print(prof.give_assignment(\"Project 1\"))\n",
    "print(stud.submit_assignment(\"Project 1\"))\n"
   ]
  },
  {
   "cell_type": "code",
   "execution_count": 55,
   "id": "750ddf83",
   "metadata": {},
   "outputs": [
    {
     "name": "stdout",
     "output_type": "stream",
     "text": [
      "Booked 2 seats for Avatar\n",
      "Cancelled 1 seats for Avatar\n",
      "Available movies and seats:\n",
      "Avatar: 9 seats\n",
      "Batman: 5 seats\n"
     ]
    }
   ],
   "source": [
    "class Cinema:\n",
    "    def __init__(self, movies):\n",
    "        self.movies = movies  \n",
    "\n",
    "    def book(self, movie, seats):\n",
    "        if movie in self.movies:\n",
    "            if seats <= self.movies[movie]:\n",
    "                self.movies[movie] -= seats\n",
    "                return f\"Booked {seats} seats for {movie}\"\n",
    "            else:\n",
    "                return f\"Not enough seats available for {movie}\"\n",
    "        else:\n",
    "            return f\"{movie} not available\"\n",
    "\n",
    "    def cancel(self, movie, seats):\n",
    "        if movie in self.movies:\n",
    "            self.movies[movie] += seats\n",
    "            return f\"Cancelled {seats} seats for {movie}\"\n",
    "        else:\n",
    "            return f\"{movie} not available\"\n",
    "\n",
    "    def show_movies(self):\n",
    "        print(\"Available movies and seats:\")\n",
    "        for movie, seats in self.movies.items():\n",
    "            print(f\"{movie}: {seats} seats\")\n",
    "\n",
    "cinema = Cinema({\"Avatar\": 10, \"Batman\": 5})\n",
    "\n",
    "print(cinema.book(\"Avatar\", 2))\n",
    "print(cinema.cancel(\"Avatar\", 1))\n",
    "cinema.show_movies()\n"
   ]
  },
  {
   "cell_type": "code",
   "execution_count": 56,
   "id": "1cd67005",
   "metadata": {},
   "outputs": [
    {
     "name": "stdout",
     "output_type": "stream",
     "text": [
      "Burger added\n",
      "Pizza added\n",
      "Pizza price updated to 250\n",
      "Burger removed\n",
      "Menu: {'Pizza': 250}\n"
     ]
    }
   ],
   "source": [
    "class Menu:\n",
    "    def __init__(self):\n",
    "        self.items = {}\n",
    "\n",
    "    def add_item(self, name, price):\n",
    "        self.items[name] = price\n",
    "        return f\"{name} added\"\n",
    "\n",
    "    def remove_item(self, name):\n",
    "        if name in self.items:\n",
    "            del self.items[name]\n",
    "            return f\"{name} removed\"\n",
    "        else:\n",
    "            return f\"{name} not found\"\n",
    "\n",
    "    def update_price(self, name, new_price):\n",
    "        if name in self.items:\n",
    "            self.items[name] = new_price\n",
    "            return f\"{name} price updated to {new_price}\"\n",
    "        else:\n",
    "            return f\"{name} not found\"\n",
    "\n",
    "    def show_menu(self):\n",
    "        print(\"Menu:\", self.items)\n",
    "\n",
    "\n",
    "menu = Menu()\n",
    "\n",
    "print(menu.add_item(\"Burger\", 100))\n",
    "print(menu.add_item(\"Pizza\", 200))\n",
    "print(menu.update_price(\"Pizza\", 250))\n",
    "print(menu.remove_item(\"Burger\"))\n",
    "menu.show_menu()\n"
   ]
  },
  {
   "cell_type": "code",
   "execution_count": null,
   "id": "9c6ce364",
   "metadata": {},
   "outputs": [],
   "source": []
  }
 ],
 "metadata": {
  "kernelspec": {
   "display_name": "Python 3",
   "language": "python",
   "name": "python3"
  },
  "language_info": {
   "codemirror_mode": {
    "name": "ipython",
    "version": 3
   },
   "file_extension": ".py",
   "mimetype": "text/x-python",
   "name": "python",
   "nbconvert_exporter": "python",
   "pygments_lexer": "ipython3",
   "version": "3.11.13"
  }
 },
 "nbformat": 4,
 "nbformat_minor": 5
}
