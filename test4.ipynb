{
 "cells": [
  {
   "cell_type": "code",
   "execution_count": 2,
   "id": "24df95d0",
   "metadata": {},
   "outputs": [
    {
     "name": "stdout",
     "output_type": "stream",
     "text": [
      "5\n"
     ]
    }
   ],
   "source": [
    "fp=open(\"f1.txt\", \"r\")\n",
    "content=fp.read()\n",
    "w=content.split()\n",
    "print(len(w))\n",
    "\n"
   ]
  },
  {
   "cell_type": "code",
   "execution_count": 4,
   "id": "8830a29f",
   "metadata": {},
   "outputs": [
    {
     "name": "stdout",
     "output_type": "stream",
     "text": [
      "Strong password\n"
     ]
    }
   ],
   "source": [
    "n=input(\"Enter password:\")\n",
    "s=any(ch in '@#$%^&*()_+!' for ch in n)\n",
    "u=any(ch.isupper() for ch in n)\n",
    "l=any(ch.islower() for ch in n)\n",
    "d=any(ch.isdigit() for ch in n)\n",
    "le=len(n)>=8\n",
    "if s and u and le and d and l:\n",
    "    print(\"Strong password\")\n",
    "else:\n",
    "    print(\"Weak password\")\n"
   ]
  },
  {
   "cell_type": "code",
   "execution_count": 5,
   "id": "e72914e5",
   "metadata": {},
   "outputs": [
    {
     "name": "stdout",
     "output_type": "stream",
     "text": [
      "15\n",
      "5\n",
      "50\n",
      "2.0\n"
     ]
    }
   ],
   "source": [
    "class Calc:\n",
    "    def __init__(self,a,b):\n",
    "        self.a=a\n",
    "        self.b=b\n",
    "    def add(self,a,b):\n",
    "        return self.a+self.b\n",
    "    def sub(self,a,b):\n",
    "        return self.a-self.b\n",
    "    def mul(self,a,b):\n",
    "        return self.a*self.b\n",
    "    def div(self,a,b):\n",
    "        return self.a/self.b\n",
    "c=Calc(10,5)\n",
    "print(c.add(10,5))\n",
    "print(c.sub(10,5))\n",
    "print(c.mul(10,5))\n",
    "print(c.div(10,5))"
   ]
  },
  {
   "cell_type": "code",
   "execution_count": 9,
   "id": "8edb2315",
   "metadata": {},
   "outputs": [
    {
     "name": "stdout",
     "output_type": "stream",
     "text": [
      "{'s'}\n"
     ]
    }
   ],
   "source": [
    "l=input().split()\n",
    "k=len(l)\n",
    "s=set(x for x in l if l.count(x)>1)\n",
    "print(s)\n",
    "\n"
   ]
  },
  {
   "cell_type": "code",
   "execution_count": 10,
   "id": "420c3d31",
   "metadata": {},
   "outputs": [
    {
     "name": "stdout",
     "output_type": "stream",
     "text": [
      "Temperature in fahrenheit: 172.76000000000002\n"
     ]
    }
   ],
   "source": [
    "celsius=float(input(\"Enter temperature in celsius:\"))\n",
    "fahrenheit=(celsius*9/5)+32\n",
    "print(\"Temperature in fahrenheit:\",fahrenheit)"
   ]
  },
  {
   "cell_type": "code",
   "execution_count": 11,
   "id": "26ff7956",
   "metadata": {},
   "outputs": [
    {
     "name": "stdout",
     "output_type": "stream",
     "text": [
      "Maximum number is: 8\n"
     ]
    }
   ],
   "source": [
    "l=list(map(int,input().split()))\n",
    "m=max(l)\n",
    "print(\"Maximum number is:\",m)\n"
   ]
  },
  {
   "cell_type": "code",
   "execution_count": 12,
   "id": "9afc6e14",
   "metadata": {},
   "outputs": [
    {
     "name": "stdout",
     "output_type": "stream",
     "text": [
      "Simple interest is: 9.6\n"
     ]
    }
   ],
   "source": [
    "p=float(input(\"Enter principle amount:\"))\n",
    "r=float(input(\"Enter rate of interest:\"))\n",
    "t=float(input(\"Enter time in years:\"))\n",
    "si=(p*r*t)/100\n",
    "print(\"Simple interest is:\",si)\n"
   ]
  },
  {
   "cell_type": "code",
   "execution_count": 17,
   "id": "becea951",
   "metadata": {},
   "outputs": [
    {
     "name": "stdout",
     "output_type": "stream",
     "text": [
      "a 70\n"
     ]
    }
   ],
   "source": [
    "d={}\n",
    "n=int(input())\n",
    "for i in range(n):\n",
    "    k=input(\"Enter key:\")\n",
    "    v=int(input(\"Enter value:\"))\n",
    "    d[k]=v\n",
    "for k,v in d.items():\n",
    "    if v <= 75:\n",
    "        print(k,v)\n",
    "\n",
    "\n"
   ]
  },
  {
   "cell_type": "code",
   "execution_count": 18,
   "id": "504900a4",
   "metadata": {},
   "outputs": [
    {
     "name": "stdout",
     "output_type": "stream",
     "text": [
      "10\n"
     ]
    }
   ],
   "source": [
    "n=input()\n",
    "s=len(n)\n",
    "sum=0\n",
    "for i in range(s):\n",
    "    sum=sum+int(n[i])\n",
    "print(sum)"
   ]
  },
  {
   "cell_type": "code",
   "execution_count": 20,
   "id": "06acbf5c",
   "metadata": {},
   "outputs": [
    {
     "name": "stdout",
     "output_type": "stream",
     "text": [
      "Prime number\n"
     ]
    }
   ],
   "source": [
    "def prime(n):\n",
    "    if n == 0 or n == 1:\n",
    "        print(\"Not a prime number\")\n",
    "    else:\n",
    "        for i in range(2, int(n**0.5) + 1):\n",
    "            if n % i == 0:\n",
    "                print(\"Not a prime number\")\n",
    "        else:\n",
    "            print(\"Prime number\")\n",
    "n = int(input(\"Enter a number: \"))\n",
    "prime(n)\n"
   ]
  },
  {
   "cell_type": "code",
   "execution_count": 25,
   "id": "649e125a",
   "metadata": {},
   "outputs": [
    {
     "name": "stdout",
     "output_type": "stream",
     "text": [
      "7\n",
      "6\n"
     ]
    }
   ],
   "source": [
    "l=list(map(int,input().split()))\n",
    "l.sort()\n",
    "print(l[-1])\n",
    "print(l[-2])\n"
   ]
  },
  {
   "cell_type": "code",
   "execution_count": 26,
   "id": "71cabb03",
   "metadata": {},
   "outputs": [
    {
     "name": "stdout",
     "output_type": "stream",
     "text": [
      "Sum of values is: 17\n"
     ]
    }
   ],
   "source": [
    "d={}\n",
    "n=int(input())\n",
    "for i in range(n):\n",
    "    k=input(\"Enter key:\")\n",
    "    v=int(input(\"Enter value:\"))\n",
    "    d[k]=v\n",
    "s=0\n",
    "for k,v in d.items():\n",
    "    s=s+v\n",
    "print(\"Sum of values is:\",s)"
   ]
  },
  {
   "cell_type": "code",
   "execution_count": 28,
   "id": "8624cc0a",
   "metadata": {},
   "outputs": [
    {
     "name": "stdout",
     "output_type": "stream",
     "text": [
      "Largest number is: 3\n"
     ]
    }
   ],
   "source": [
    "a=int(input())\n",
    "b=int(input())\n",
    "c=int(input())\n",
    "L=[]\n",
    "L.append(a)\n",
    "L.append(b)\n",
    "L.append(c)\n",
    "la=max(L)\n",
    "print(\"Largest number is:\",la)"
   ]
  },
  {
   "cell_type": "code",
   "execution_count": 30,
   "id": "8f20a199",
   "metadata": {},
   "outputs": [
    {
     "name": "stdout",
     "output_type": "stream",
     "text": [
      "r 2\n",
      "g 2\n",
      "m 2\n"
     ]
    }
   ],
   "source": [
    "n=input()\n",
    "k=len(n)\n",
    "d={}\n",
    "for i in range(k):\n",
    "    if n[i] in d:\n",
    "        d[n[i]]+=1\n",
    "    else:\n",
    "        d[n[i]]=1\n",
    "for k,v in d.items():\n",
    "    if v>1:\n",
    "        print(k,v)\n",
    "   "
   ]
  },
  {
   "cell_type": "code",
   "execution_count": 31,
   "id": "328c35ef",
   "metadata": {},
   "outputs": [
    {
     "name": "stdout",
     "output_type": "stream",
     "text": [
      "Electricity bill: ₹ 5200\n"
     ]
    }
   ],
   "source": [
    "n = int(input(\"Enter number of units: \"))\n",
    "if n <= 100:\n",
    "    bill = n * 5\n",
    "elif n <= 200:\n",
    "    bill = 100*5 + (n - 100)*7\n",
    "else:\n",
    "    bill = 100*5 + 100*7 + (n - 200)*10\n",
    "\n",
    "print(\"Electricity bill: ₹\", bill)\n"
   ]
  },
  {
   "cell_type": "code",
   "execution_count": 32,
   "id": "77f426a3",
   "metadata": {},
   "outputs": [
    {
     "name": "stdout",
     "output_type": "stream",
     "text": [
      "['kushi', 'poojitha', 'rachana', 'sathwika', 'sreeja', 'sushmitha']\n"
     ]
    }
   ],
   "source": [
    "l=input().split()\n",
    "l.sort()\n",
    "print(l)\n"
   ]
  },
  {
   "cell_type": "code",
   "execution_count": 36,
   "id": "30fb9c76",
   "metadata": {},
   "outputs": [
    {
     "name": "stdout",
     "output_type": "stream",
     "text": [
      "anahcar\n"
     ]
    }
   ],
   "source": [
    "n=input()\n",
    "print(''.join(reversed(n)))"
   ]
  },
  {
   "cell_type": "code",
   "execution_count": 39,
   "id": "edbfa7f7",
   "metadata": {},
   "outputs": [
    {
     "name": "stdout",
     "output_type": "stream",
     "text": [
      "3\n",
      "1\n",
      "1\n"
     ]
    }
   ],
   "source": [
    "l=list(map(int,input().split()))\n",
    "p=0\n",
    "n=0\n",
    "z=0\n",
    "for i in range(len(l)):\n",
    "    if l[i]>0:\n",
    "        p=p+1\n",
    "    elif l[i]<0:\n",
    "        n=n+1\n",
    "    else:\n",
    "        z=z+1\n",
    "print(p)\n",
    "print(n)\n",
    "print(z)"
   ]
  },
  {
   "cell_type": "code",
   "execution_count": 40,
   "id": "1397c514",
   "metadata": {},
   "outputs": [
    {
     "name": "stdout",
     "output_type": "stream",
     "text": [
      "Incorrect PIN.\n",
      "You have 2 attempts left.\n",
      "\n",
      "Incorrect PIN.\n",
      "You have 1 attempts left.\n",
      "\n",
      "PIN accepted. Access granted!\n",
      "Too many incorrect attempts. Access denied!\n"
     ]
    }
   ],
   "source": [
    "correct_pin = \"1234\"  \n",
    "attempts = 3           \n",
    "for i in range(attempts):\n",
    "    pin = input(\"Enter your PIN: \")\n",
    "    if pin == correct_pin:\n",
    "        print(\"PIN accepted. Access granted!\")\n",
    "    else:\n",
    "        print(\"Incorrect PIN.\")\n",
    "        if i < attempts - 1:\n",
    "            print(f\"You have {attempts - i - 1} attempts left.\\n\")\n",
    "else:\n",
    "    print(\"Too many incorrect attempts. Access denied!\")\n"
   ]
  },
  {
   "cell_type": "code",
   "execution_count": 42,
   "id": "8199fb39",
   "metadata": {},
   "outputs": [
    {
     "name": "stdout",
     "output_type": "stream",
     "text": [
      "3.5\n"
     ]
    }
   ],
   "source": [
    "try:\n",
    "    a=int(input())\n",
    "    b=int(input())\n",
    "    d=a/b\n",
    "    print(d)\n",
    "except Exception as e:\n",
    "    print(e)"
   ]
  },
  {
   "cell_type": "code",
   "execution_count": 43,
   "id": "dca3e296",
   "metadata": {},
   "outputs": [
    {
     "name": "stdout",
     "output_type": "stream",
     "text": [
      "Invalid input! Please enter a number.\n"
     ]
    }
   ],
   "source": [
    "try:\n",
    "    x = int(input())\n",
    "    y = int(input())\n",
    "    result = x / y\n",
    "    print(\"Result:\", result)\n",
    "except ValueError:\n",
    "    print(\"Invalid input! Please enter a number.\")\n",
    "except ZeroDivisionError:\n",
    "    print(\"Cannot divide by zero!\")\n"
   ]
  },
  {
   "cell_type": "code",
   "execution_count": null,
   "id": "8617ee93",
   "metadata": {},
   "outputs": [],
   "source": [
    "b=int(input())\n",
    "w=int(input())\n",
    "try:\n",
    "    if b<w:\n",
    "        raise InsuffError\n",
    "except InsuffError as e:\n",
    "    print(\"Insufficient funds\")"
   ]
  },
  {
   "cell_type": "code",
   "execution_count": null,
   "id": "8373ef65",
   "metadata": {},
   "outputs": [],
   "source": [
    "try:\n",
    "    units = int(input(\"Enter number of units consumed: \"))\n",
    "    if units < 0:\n",
    "        raise ValueError(\"Units cannot be negative.\")\n",
    "    if units <= 100:\n",
    "        bill = units * 5\n",
    "    elif units <= 200:\n",
    "        bill = 100*5 + (units - 100)*7\n",
    "    else:\n",
    "        bill = 100*5 + 100*7 + (units - 200)*10\n",
    "    print(\"Total electricity bill: ₹\", bill)\n",
    "except ValueError as e:\n",
    "    print(\"Invalid input:\", e)\n",
    "finally:\n",
    "    print(\"Bill processing finished.\")\n"
   ]
  }
 ],
 "metadata": {
  "kernelspec": {
   "display_name": "Python 3",
   "language": "python",
   "name": "python3"
  },
  "language_info": {
   "codemirror_mode": {
    "name": "ipython",
    "version": 3
   },
   "file_extension": ".py",
   "mimetype": "text/x-python",
   "name": "python",
   "nbconvert_exporter": "python",
   "pygments_lexer": "ipython3",
   "version": "3.11.13"
  }
 },
 "nbformat": 4,
 "nbformat_minor": 5
}
