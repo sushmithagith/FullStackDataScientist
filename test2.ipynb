{
 "cells": [
  {
   "cell_type": "code",
   "execution_count": 8,
   "id": "328f0ae0",
   "metadata": {},
   "outputs": [
    {
     "name": "stdout",
     "output_type": "stream",
     "text": [
      "Total Bill = ( 30 * 40 ) + ( 20 * 20 ) + ( 15 * 50 ) = 2350\n"
     ]
    }
   ],
   "source": [
    "I1=int(input(\"Item1 Price:\"))\n",
    "I2=int(input(\"Item2 Price:\"))\n",
    "I3=int(input(\"Item3 Price:\"))\n",
    "P1=int(input(\"Quantity\"))\n",
    "P2=int(input(\"Quantity\"))\n",
    "P3=int(input(\"Quantity\"))\n",
    "Total=(I1*P1)+(I2*P2)+(I3*P3)\n",
    "print(\"Total Bill\",\"=\",\"(\",I1,\"*\",P1,\")\",\"+\",\"(\",I2,\"*\",P2,\")\",\"+\",\"(\",I3,\"*\",P3,\")\",\"=\",Total)\n",
    "\n"
   ]
  },
  {
   "cell_type": "code",
   "execution_count": 10,
   "id": "7cfa22c8",
   "metadata": {},
   "outputs": [
    {
     "name": "stdout",
     "output_type": "stream",
     "text": [
      "Addition: 15\n",
      "Subtraction: 5\n",
      "Multiplication: 50\n",
      "Division: 2.0\n",
      "Modulus: 0\n"
     ]
    }
   ],
   "source": [
    "m=int(input(\"First number: \"))\n",
    "n=int(input(\"Second number: \"))\n",
    "add=m+n\n",
    "sub=m-n\n",
    "mul=m*n\n",
    "div=m/n\n",
    "mod=m%n\n",
    "print(\"Addition:\",add)\n",
    "print(\"Subtraction:\",sub)\n",
    "print(\"Multiplication:\",mul)\n",
    "print(\"Division:\",div)\n",
    "print(\"Modulus:\",mod)\n"
   ]
  },
  {
   "cell_type": "code",
   "execution_count": 11,
   "id": "a0b28318",
   "metadata": {},
   "outputs": [
    {
     "name": "stdout",
     "output_type": "stream",
     "text": [
      "Grade:A(Excellent)\n"
     ]
    }
   ],
   "source": [
    "n=int(input())\n",
    "if n>=90:\n",
    "    print(\"A+\")\n",
    "elif n>=80 and n<=89:\n",
    "    print(\"Grade:A(Excellent)\")\n",
    "elif n>=70 and n<=79:\n",
    "    print(\"B\")\n",
    "elif n>=60 and n<=69:\n",
    "    print(\"C\")\n",
    "else:\n",
    "    print(\"Fail\")"
   ]
  },
  {
   "cell_type": "code",
   "execution_count": 13,
   "id": "dc7fd3ff",
   "metadata": {},
   "outputs": [
    {
     "name": "stdout",
     "output_type": "stream",
     "text": [
      "Highest Marks = 90\n",
      "Lowest Marks = 45\n",
      "Average Marks = 71.4\n"
     ]
    }
   ],
   "source": [
    "l = list(map(int, input(\"Enter marks : \").split()))\n",
    "print(\"Highest Marks =\", max(l))\n",
    "print(\"Lowest Marks =\", min(l))\n",
    "avg = sum(l) / len(l)\n",
    "print(\"Average Marks =\", avg)\n"
   ]
  },
  {
   "cell_type": "code",
   "execution_count": 16,
   "id": "bb538570",
   "metadata": {},
   "outputs": [
    {
     "name": "stdout",
     "output_type": "stream",
     "text": [
      "Phone Number of Ravi: 9123456780\n"
     ]
    }
   ],
   "source": [
    "d = {}\n",
    "n = int(input(\"Enter number of items: \"))\n",
    "\n",
    "for i in range(n):\n",
    "    key = input(\"Enter key: \")\n",
    "    value = input(\"Enter value: \")\n",
    "    d[key] = value\n",
    "\n",
    "print(\"Phone Number of Ravi:\", d[\"Ravi\"])\n",
    "\n"
   ]
  },
  {
   "cell_type": "code",
   "execution_count": 3,
   "id": "77bb897d",
   "metadata": {},
   "outputs": [
    {
     "name": "stdout",
     "output_type": "stream",
     "text": [
      "Total Words = 3\n",
      "Total Characters = 16\n",
      "Total Vowels = 6\n"
     ]
    }
   ],
   "source": [
    "n=input(\"Enter sentence:\")\n",
    "v=0\n",
    "c=0\n",
    "for i in range(len(n)):\n",
    "    if n[i] in 'aeiou':\n",
    "        v+=1\n",
    "    if n[i].isalpha():\n",
    "        c+=1\n",
    "w=len(n.split())\n",
    "print(\"Total Words =\", w)\n",
    "print(\"Total Characters =\", c+1)\n",
    "print(\"Total Vowels =\", v)"
   ]
  },
  {
   "cell_type": "code",
   "execution_count": 11,
   "id": "5d99d7ea",
   "metadata": {},
   "outputs": [
    {
     "name": "stdout",
     "output_type": "stream",
     "text": [
      "Compound Interest = 512.50\n",
      "Total Amount = 5512.50\n"
     ]
    }
   ],
   "source": [
    "p = int(input(\"Principal = \"))\n",
    "r = float(input(\"Rate = \"))\n",
    "t = int(input(\"Time = \"))\n",
    "itype = input(\"Interest Type (Simple/Compound) = \")\n",
    "\n",
    "if itype == \"simple\":\n",
    "    si = (p * r * t) / 100\n",
    "    a = p + si\n",
    "    print(\"Simple Interest = {:.2f}\".format(si))\n",
    "    print(\"Total Amount = {:.2f}\".format(a))\n",
    "\n",
    "elif itype == \"compound\":\n",
    "    a = p * (1 + (r/100)) ** t\n",
    "    ci = a - p\n",
    "    print(\"Compound Interest = {:.2f}\".format(ci))\n",
    "    print(\"Total Amount = {:.2f}\".format(a))\n"
   ]
  },
  {
   "cell_type": "code",
   "execution_count": 12,
   "id": "c72c95f2",
   "metadata": {},
   "outputs": [
    {
     "name": "stdout",
     "output_type": "stream",
     "text": [
      "Encrypted Text = KHOOR\n"
     ]
    }
   ],
   "source": [
    "message = input(\"Message = \").upper()\n",
    "shift = int(input(\"Shift = \"))\n",
    "encrypted = \"\"\n",
    "for ch in message:\n",
    "    if ch.isalpha():   \n",
    "        encrypted += chr(((ord(ch) - 65 + shift) % 26) + 65)\n",
    "    else:\n",
    "        encrypted += ch\n",
    "\n",
    "print(\"Encrypted Text =\", encrypted)\n"
   ]
  },
  {
   "cell_type": "code",
   "execution_count": 13,
   "id": "3a420d36",
   "metadata": {},
   "outputs": [
    {
     "name": "stdout",
     "output_type": "stream",
     "text": [
      "PIN Verified.\n",
      "Withdrawal Successful. Remaining Balance = 3000\n"
     ]
    }
   ],
   "source": [
    "PIN = 1234\n",
    "balance = 5000\n",
    "pin_input = int(input(\"Enter PIN: \"))\n",
    "\n",
    "if pin_input == PIN:\n",
    "    print(\"PIN Verified.\")\n",
    "    withdraw = int(input(\"Enter amount to withdraw: \"))\n",
    "    \n",
    "    if withdraw <= balance:\n",
    "        balance -= withdraw\n",
    "        print(\"Withdrawal Successful. Remaining Balance =\", balance)\n",
    "    else:\n",
    "        print(\"Insufficient Balance.\")\n",
    "else:\n",
    "    print(\"Invalid PIN.\")"
   ]
  },
  {
   "cell_type": "code",
   "execution_count": 14,
   "id": "1d38ca73",
   "metadata": {},
   "outputs": [
    {
     "name": "stdout",
     "output_type": "stream",
     "text": [
      "Initial Books: ['Python Basics', 'Data Science', 'AI FUndamentals']\n",
      "Current Books: ['Python Basics', 'AI FUndamentals', 'Machine Learning']\n",
      "Total Books: 3\n"
     ]
    }
   ],
   "source": [
    "n = int(input(\"Enter number of books: \"))\n",
    "books = []\n",
    "for i in range(n):\n",
    "    book = input(f\"Enter book {i+1}: \")\n",
    "    books.append(book)\n",
    "print(\"Initial Books:\", books)\n",
    "add_book = input(\"Enter book to add: \")\n",
    "books.append(add_book)\n",
    "remove_book = input(\"Enter book to remove: \")\n",
    "if remove_book in books:\n",
    "    books.remove(remove_book)\n",
    "else:\n",
    "    print(f\"'{remove_book}' not found in library.\")\n",
    "print(\"Current Books:\", books)\n",
    "print(\"Total Books:\", len(books))\n"
   ]
  },
  {
   "cell_type": "code",
   "execution_count": null,
   "id": "922a3a16",
   "metadata": {},
   "outputs": [],
   "source": []
  }
 ],
 "metadata": {
  "kernelspec": {
   "display_name": "Python 3",
   "language": "python",
   "name": "python3"
  },
  "language_info": {
   "codemirror_mode": {
    "name": "ipython",
    "version": 3
   },
   "file_extension": ".py",
   "mimetype": "text/x-python",
   "name": "python",
   "nbconvert_exporter": "python",
   "pygments_lexer": "ipython3",
   "version": "3.11.13"
  }
 },
 "nbformat": 4,
 "nbformat_minor": 5
}
