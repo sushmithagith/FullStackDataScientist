{
 "cells": [
  {
   "cell_type": "code",
   "execution_count": 2,
   "id": "50d8e23b",
   "metadata": {},
   "outputs": [
    {
     "name": "stdout",
     "output_type": "stream",
     "text": [
      "3\n",
      "2\n"
     ]
    }
   ],
   "source": [
    "a=int(input())\n",
    "b=int(input())\n",
    "a=a+b\n",
    "b=a-b\n",
    "a=a-b\n",
    "print(a)\n",
    "print(b)"
   ]
  },
  {
   "cell_type": "code",
   "execution_count": 3,
   "id": "13f2ec1a",
   "metadata": {},
   "outputs": [
    {
     "name": "stdout",
     "output_type": "stream",
     "text": [
      "olleh\n"
     ]
    }
   ],
   "source": [
    "\n",
    "a=input()\n",
    "b=\"\".join(reversed(a))\n",
    "print(b)"
   ]
  },
  {
   "cell_type": "code",
   "execution_count": 19,
   "id": "b83420de",
   "metadata": {},
   "outputs": [
    {
     "name": "stdout",
     "output_type": "stream",
     "text": [
      "Palindrome\n"
     ]
    }
   ],
   "source": [
    "a=input()\n",
    "b=\"\".join(reversed(a))\n",
    "if(a==b):\n",
    "    print(\"Palindrome\")"
   ]
  },
  {
   "cell_type": "code",
   "execution_count": 5,
   "id": "68061402",
   "metadata": {},
   "outputs": [
    {
     "name": "stdout",
     "output_type": "stream",
     "text": [
      "153\n",
      "Amstrong\n"
     ]
    }
   ],
   "source": [
    "a=int(input())\n",
    "sum=0\n",
    "for i in range(len(str(a))):\n",
    "    sum=sum+(int(str(a)[i])**3)\n",
    "print(sum)\n",
    "if(sum==a):\n",
    "    print(\"Amstrong\")\n",
    "\n"
   ]
  },
  {
   "cell_type": "code",
   "execution_count": 7,
   "id": "03727246",
   "metadata": {},
   "outputs": [
    {
     "name": "stdout",
     "output_type": "stream",
     "text": [
      "2\n",
      "2\n"
     ]
    }
   ],
   "source": [
    "st=input().lower()\n",
    "c1=0\n",
    "c2=0\n",
    "for s in st:\n",
    "    if s in \"aeiou\":\n",
    "        c1+=1\n",
    "    elif s.isalpha():\n",
    "        c2+=1\n",
    "print(c1)\n",
    "print(c2)\n"
   ]
  },
  {
   "cell_type": "code",
   "execution_count": 10,
   "id": "76bcd32b",
   "metadata": {},
   "outputs": [
    {
     "name": "stdout",
     "output_type": "stream",
     "text": [
      "5 * 1 = 5\n",
      "5 * 2 = 10\n",
      "5 * 3 = 15\n",
      "5 * 4 = 20\n",
      "5 * 5 = 25\n",
      "5 * 6 = 30\n",
      "5 * 7 = 35\n",
      "5 * 8 = 40\n",
      "5 * 9 = 45\n",
      "5 * 10 = 50\n"
     ]
    }
   ],
   "source": [
    "a=int(input())\n",
    "for i in range(1,11):\n",
    "    print(a,\"*\",i,\"=\",a*i)"
   ]
  },
  {
   "cell_type": "code",
   "execution_count": 13,
   "id": "8e21e7c5",
   "metadata": {},
   "outputs": [
    {
     "name": "stdout",
     "output_type": "stream",
     "text": [
      "leap year\n"
     ]
    }
   ],
   "source": [
    "a=int(input())\n",
    "if(a%400==0 or (a%4==0 and a%100!=0)):\n",
    "    print(\"leap year\")\n",
    "\n"
   ]
  },
  {
   "cell_type": "code",
   "execution_count": 15,
   "id": "23933866",
   "metadata": {},
   "outputs": [
    {
     "name": "stdout",
     "output_type": "stream",
     "text": [
      "Maximum number is: 6\n"
     ]
    }
   ],
   "source": [
    "nums = []\n",
    "for i in range(5):\n",
    "    n = int(input(\"Enter a number: \"))\n",
    "    nums.append(n)\n",
    "print(\"Maximum number is:\", max(nums))\n"
   ]
  },
  {
   "cell_type": "code",
   "execution_count": 20,
   "id": "0b4c1725",
   "metadata": {},
   "outputs": [
    {
     "name": "stdout",
     "output_type": "stream",
     "text": [
      "Factorial: 120\n"
     ]
    }
   ],
   "source": [
    "a = int(input())\n",
    "fact = 1\n",
    "for i in range(1, a + 1):\n",
    "    fact *= i\n",
    "print(\"Factorial:\", fact)\n"
   ]
  },
  {
   "cell_type": "code",
   "execution_count": 21,
   "id": "625c159d",
   "metadata": {},
   "outputs": [
    {
     "name": "stdout",
     "output_type": "stream",
     "text": [
      "15\n",
      "30\n",
      "45\n",
      "60\n",
      "75\n",
      "90\n"
     ]
    }
   ],
   "source": [
    "for i in range(1,101):\n",
    "    if(i%3==0 and i%5==0):\n",
    "        print(i)"
   ]
  }
 ],
 "metadata": {
  "kernelspec": {
   "display_name": "Python 3",
   "language": "python",
   "name": "python3"
  },
  "language_info": {
   "codemirror_mode": {
    "name": "ipython",
    "version": 3
   },
   "file_extension": ".py",
   "mimetype": "text/x-python",
   "name": "python",
   "nbconvert_exporter": "python",
   "pygments_lexer": "ipython3",
   "version": "3.11.13"
  }
 },
 "nbformat": 4,
 "nbformat_minor": 5
}
